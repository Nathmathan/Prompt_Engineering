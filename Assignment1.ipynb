{
  "nbformat": 4,
  "nbformat_minor": 0,
  "metadata": {
    "colab": {
      "provenance": [],
      "authorship_tag": "ABX9TyOy3bSwh59Yzas53MpnBvf1",
      "include_colab_link": true
    },
    "kernelspec": {
      "name": "python3",
      "display_name": "Python 3"
    },
    "language_info": {
      "name": "python"
    }
  },
  "cells": [
    {
      "cell_type": "markdown",
      "metadata": {
        "id": "view-in-github",
        "colab_type": "text"
      },
      "source": [
        "<a href=\"https://colab.research.google.com/github/Nathmathan/Prompt_Engineering/blob/main/assignment1.ipynb\" target=\"_parent\"><img src=\"https://colab.research.google.com/assets/colab-badge.svg\" alt=\"Open In Colab\"/></a>"
      ]
    },
    {
      "cell_type": "code",
      "execution_count": null,
      "metadata": {
        "colab": {
          "base_uri": "https://localhost:8080/"
        },
        "id": "VOj0-yRbML5D",
        "outputId": "f50e1a0e-ed23-4b9b-895f-91d9c19b6c1e"
      },
      "outputs": [
        {
          "output_type": "stream",
          "name": "stdout",
          "text": [
            "Using Colab cache for faster access to the 'medical-insurance-cost-dataset' dataset.\n",
            "Using Colab cache for faster access to the 'medical-insurance-cost-dataset' dataset.\n",
            "Linear Model Preditions:\n",
            "[ 7031.72428607  9608.95047274 12186.1766594  14763.40284607\n",
            " 17340.62903274 19917.85521941]\n",
            "\n",
            "Polynomial Model Preditions:\n",
            "[ 8025.90293032  9647.19694075 11756.27269251 14353.13018562\n",
            " 17437.76942006 21010.19039585]\n"
          ]
        }
      ],
      "source": [
        "from sklearn import linear_model\n",
        "from sklearn.preprocessing import PolynomialFeatures\n",
        "from sklearn.pipeline import make_pipeline\n",
        "import kagglehub\n",
        "from kagglehub import KaggleDatasetAdapter\n",
        "import numpy as np\n",
        "\n",
        "# loading and preparing data sets from Kaggle\n",
        "input_data = kagglehub.dataset_load(\n",
        "  KaggleDatasetAdapter.PANDAS,\n",
        "  \"mosapabdelghany/medical-insurance-cost-dataset\",\n",
        "  \"insurance.csv\"\n",
        ")\n",
        "input_data = input_data['age']\n",
        "input_data = np.array(input_data).reshape(-1, 1) #convert the 1D array to 2D\n",
        "\n",
        "output_data = kagglehub.dataset_load(\n",
        "  KaggleDatasetAdapter.PANDAS,\n",
        "  \"mosapabdelghany/medical-insurance-cost-dataset\",\n",
        "  \"insurance.csv\"\n",
        ")\n",
        "output_data = output_data['charges']\n",
        "output_data = np.array(output_data).reshape(-1, 1) #convert the 1D array to 2D\n",
        "\n",
        "prediction_input = [[15], [25], [35], [45], [55], [65]]\n",
        "\n",
        "# model 1: linear model\n",
        "model1 = linear_model.LinearRegression()\n",
        "model1.fit(input_data, output_data)\n",
        "prediction1 = model1.predict(prediction_input)\n",
        "print(\"Linear Model Preditions:\")\n",
        "print(prediction1.reshape(-1))\n",
        "\n",
        "\n",
        "# model 2: polynomial model\n",
        "model2 = make_pipeline(PolynomialFeatures(2), linear_model.LinearRegression())\n",
        "model2.fit(input_data, output_data)\n",
        "prediction2 = model2.predict(prediction_input)\n",
        "print(\"\\nPolynomial Model Preditions:\")\n",
        "print(prediction2.reshape(-1))"
      ]
    },
    {
      "cell_type": "markdown",
      "source": [
        "Model Evaluation\n",
        "\n",
        "Evaluate the performance of both models on the testing dataset.\n",
        "Compare the performance and discuss the suitability of each model for your problem.\n"
      ],
      "metadata": {
        "id": "nQ4vb4ErqMIt"
      }
    }
  ]
}