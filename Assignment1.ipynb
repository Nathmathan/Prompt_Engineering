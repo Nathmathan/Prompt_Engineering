{
  "cells": [
    {
      "cell_type": "markdown",
      "metadata": {
        "colab_type": "text",
        "id": "view-in-github"
      },
      "source": [
        "<a href=\"https://colab.research.google.com/github/Nathmathan/Prompt_Engineering/blob/main/Assignment1.ipynb\" target=\"_parent\"><img src=\"https://colab.research.google.com/assets/colab-badge.svg\" alt=\"Open In Colab\"/></a>"
      ]
    },
    {
      "cell_type": "code",
      "execution_count": null,
      "metadata": {
        "colab": {
          "base_uri": "https://localhost:8080/"
        },
        "id": "VOj0-yRbML5D",
        "outputId": "f50e1a0e-ed23-4b9b-895f-91d9c19b6c1e"
      },
      "outputs": [
        {
          "name": "stdout",
          "output_type": "stream",
          "text": [
            "Using Colab cache for faster access to the 'medical-insurance-cost-dataset' dataset.\n",
            "Using Colab cache for faster access to the 'medical-insurance-cost-dataset' dataset.\n",
            "Linear Model Preditions:\n",
            "[ 7031.72428607  9608.95047274 12186.1766594  14763.40284607\n",
            " 17340.62903274 19917.85521941]\n",
            "\n",
            "Polynomial Model Preditions:\n",
            "[ 8025.90293032  9647.19694075 11756.27269251 14353.13018562\n",
            " 17437.76942006 21010.19039585]\n"
          ]
        }
      ],
      "source": [
        "from sklearn import linear_model\n",
        "from sklearn.preprocessing import PolynomialFeatures\n",
        "from sklearn.pipeline import make_pipeline\n",
        "import kagglehub\n",
        "from kagglehub import KaggleDatasetAdapter\n",
        "import numpy as np\n",
        "\n",
        "# loading and preparing data sets from Kaggle\n",
        "dataset = kagglehub.dataset_load(\n",
        "  KaggleDatasetAdapter.PANDAS,\n",
        "  \"mosapabdelghany/medical-insurance-cost-dataset\",\n",
        "  \"insurance.csv\"\n",
        ")\n",
        "input_data = dataset['age']\n",
        "input_data = np.array(input_data).reshape(-1, 1) #convert to an array & make it 2D\n",
        "\n",
        "output_data = dataset['charges']\n",
        "output_data = np.array(output_data).reshape(-1, 1) #convert to an array & make it 2D\n",
        "\n",
        "prediction_input = [[15], [25], [35], [45], [55], [65]]\n",
        "\n",
        "# model 1: linear model\n",
        "model1 = linear_model.LinearRegression()\n",
        "model1.fit(input_data, output_data)\n",
        "prediction1 = model1.predict(prediction_input)\n",
        "print(\"Linear Model Preditions:\")\n",
        "print(prediction1.reshape(-1))\n",
        "\n",
        "\n",
        "# model 2: polynomial model\n",
        "model2 = make_pipeline(PolynomialFeatures(2), linear_model.LinearRegression())\n",
        "model2.fit(input_data, output_data)\n",
        "prediction2 = model2.predict(prediction_input)\n",
        "print(\"\\nPolynomial Model Preditions:\")\n",
        "print(prediction2.reshape(-1))"
      ]
    },
    {
      "cell_type": "markdown",
      "metadata": {
        "id": "nQ4vb4ErqMIt"
      },
      "source": [
        "**Problem Identification**\n",
        "\n",
        "Medical researchers or insurance company managers may want observe how the system charges patients of various conditions and circumstances. Despite large samples of people, there may be gaps in the data for the patients. This is where a regression AI prediction model may be of use.\n",
        "\n",
        "**Model Evaluation**\n",
        "\n",
        "In this test, I've decided to test a linear model against a polynomial model. From a dataset in Kraggle, I separated the ages column and the charges column as input and output datasets, respectively. \n",
        "\n",
        "Given the testing dataset above, both models managed to make roughly similar predictions with the charges. However, the polynomial model seems to suggest, as expected, that insurance charges ramp up more as the age of the patient gets higher with the charge of the youngest and oldest patients being higher than the predicted charges of the respective ages in the linear model. Ultimately, I think the polynomial model is better suited for this situation as the insurance charges aren't likely to have a linear relationship with ages.\n"
      ]
    }
  ],
  "metadata": {
    "colab": {
      "authorship_tag": "ABX9TyPO3G/FzVj5EUX08wGU8vjq",
      "include_colab_link": true,
      "provenance": []
    },
    "kernelspec": {
      "display_name": "Python 3",
      "name": "python3"
    },
    "language_info": {
      "name": "python"
    }
  },
  "nbformat": 4,
  "nbformat_minor": 0
}
