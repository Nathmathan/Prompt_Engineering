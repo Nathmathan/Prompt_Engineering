{
  "nbformat": 4,
  "nbformat_minor": 0,
  "metadata": {
    "colab": {
      "provenance": [],
      "authorship_tag": "ABX9TyMhqHzaThwZieKlbzyIQc7v",
      "include_colab_link": true
    },
    "kernelspec": {
      "name": "python3",
      "display_name": "Python 3"
    },
    "language_info": {
      "name": "python"
    }
  },
  "cells": [
    {
      "cell_type": "markdown",
      "metadata": {
        "id": "view-in-github",
        "colab_type": "text"
      },
      "source": [
        "<a href=\"https://colab.research.google.com/github/Nathmathan/Prompt_Engineering/blob/main/Assignment1.ipynb\" target=\"_parent\"><img src=\"https://colab.research.google.com/assets/colab-badge.svg\" alt=\"Open In Colab\"/></a>"
      ]
    },
    {
      "cell_type": "code",
      "execution_count": 23,
      "metadata": {
        "colab": {
          "base_uri": "https://localhost:8080/"
        },
        "id": "VOj0-yRbML5D",
        "outputId": "22de26bb-2cea-4d1a-c4d4-b598c987f06b"
      },
      "outputs": [
        {
          "output_type": "stream",
          "name": "stdout",
          "text": [
            "Using Colab cache for faster access to the 'medical-insurance-cost-dataset' dataset.\n",
            "Using Colab cache for faster access to the 'medical-insurance-cost-dataset' dataset.\n",
            "Linear Model Preditions:\n",
            "[[ 7031.72428607]\n",
            " [ 9608.95047274]\n",
            " [12186.1766594 ]\n",
            " [14763.40284607]\n",
            " [17340.62903274]\n",
            " [19917.85521941]]\n",
            "\n",
            "Polynomial Model Preditions:\n",
            "<map object at 0x7ca85a347cd0>\n"
          ]
        }
      ],
      "source": [
        "from sklearn import linear_model\n",
        "from sklearn.preprocessing import PolynomialFeatures\n",
        "from sklearn.pipeline import make_pipeline\n",
        "import kagglehub\n",
        "from kagglehub import KaggleDatasetAdapter\n",
        "\n",
        "# loading and preparing data sets from Kaggle\n",
        "input_data = kagglehub.dataset_load(\n",
        "  KaggleDatasetAdapter.PANDAS,\n",
        "  \"mosapabdelghany/medical-insurance-cost-dataset\",\n",
        "  \"insurance.csv\"\n",
        ")\n",
        "input_data = input_data['age']\n",
        "input_data = np.array(input_data).reshape(-1, 1) #convert the 1D array to 2D\n",
        "\n",
        "output_data = kagglehub.dataset_load(\n",
        "  KaggleDatasetAdapter.PANDAS,\n",
        "  \"mosapabdelghany/medical-insurance-cost-dataset\",\n",
        "  \"insurance.csv\"\n",
        ")\n",
        "output_data = output_data['charges']\n",
        "output_data = np.array(output_data).reshape(-1, 1) #convert the 1D array to 2D\n",
        "\n",
        "# model 1: linear model\n",
        "model1 = linear_model.LinearRegression()\n",
        "model1.fit(input_data, output_data)\n",
        "prediction1 = model1.predict([[15], [25], [35], [45], [55], [65]])\n",
        "print(\"Linear Model Preditions:\")\n",
        "print(prediction1)\n",
        "\n",
        "\n",
        "# model 2: polynomial model\n",
        "model2 = make_pipeline(PolynomialFeatures(2), linear_model.LinearRegression())\n",
        "model2.fit(input_data, output_data)\n",
        "prediction2 = model2.predict([[15], [25], [35], [45], [55], [65]])\n",
        "print(\"\\nPolynomial Model Preditions:\")\n",
        "print(prediction2)"
      ]
    },
    {
      "cell_type": "markdown",
      "source": [
        "Model Evaluation\n",
        "\n",
        "Evaluate the performance of both models on the testing dataset.\n",
        "Compare the performance and discuss the suitability of each model for your problem.\n"
      ],
      "metadata": {
        "id": "nQ4vb4ErqMIt"
      }
    }
  ]
}